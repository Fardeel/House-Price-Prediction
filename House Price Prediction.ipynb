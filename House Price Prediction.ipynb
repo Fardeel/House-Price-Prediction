{
 "cells": [
  {
   "cell_type": "markdown",
   "id": "06d4d5a8-d977-4284-94f1-b3717f91804f",
   "metadata": {},
   "source": [
    "# Import Libraries"
   ]
  },
  {
   "cell_type": "code",
   "execution_count": null,
   "id": "350a40e4-03c7-4914-9d25-8548ef11f4da",
   "metadata": {},
   "outputs": [],
   "source": [
    "import pandas as pd\n",
    "import numpy as np\n",
    "import matplotlib.pyplot as plt\n",
    "import seaborn as sns\n",
    "\n",
    "from sklearn.model_selection import train_test_split, cross_val_score\n",
    "from sklearn.preprocessing import StandardScaler\n",
    "from sklearn.linear_model import LinearRegression\n",
    "from sklearn.ensemble import RandomForestRegressor\n",
    "from xgboost import XGBRegressor\n",
    "from sklearn.metrics import mean_squared_error, r2_score"
   ]
  },
  {
   "cell_type": "code",
   "execution_count": null,
   "id": "fdeef80b-ac53-4c2e-9e13-5da3e3866481",
   "metadata": {},
   "outputs": [],
   "source": [
    "train = pd.read_csv(\"train.csv\")\n",
    "test = pd.read_csv(\"test.csv\")"
   ]
  },
  {
   "cell_type": "code",
   "execution_count": null,
   "id": "d69673f7-0083-446e-b6b7-5a0a6037fd2c",
   "metadata": {},
   "outputs": [],
   "source": [
    "print(\"Train Shape:\", train.shape)"
   ]
  },
  {
   "cell_type": "code",
   "execution_count": null,
   "id": "aafe33f3-27a7-4582-8bda-afc217a6db6d",
   "metadata": {},
   "outputs": [],
   "source": [
    "print(\"Test Shape:\", test.shape)"
   ]
  },
  {
   "cell_type": "code",
   "execution_count": null,
   "id": "3219709b-f858-404c-9f32-702bde06743a",
   "metadata": {},
   "outputs": [],
   "source": [
    "train.sample(5)"
   ]
  },
  {
   "cell_type": "code",
   "execution_count": null,
   "id": "7900778d-d320-4213-b854-2921291dd065",
   "metadata": {},
   "outputs": [],
   "source": [
    "test.sample(5)"
   ]
  },
  {
   "cell_type": "markdown",
   "id": "ab60435a-eb71-4349-ade9-01d174a466b7",
   "metadata": {},
   "source": [
    "# Exploratory Data Analysis (EDA)"
   ]
  },
  {
   "cell_type": "markdown",
   "id": "69c38fe2-8119-44fb-a332-f1d7931e177f",
   "metadata": {},
   "source": [
    "### Check missing values"
   ]
  },
  {
   "cell_type": "code",
   "execution_count": null,
   "id": "6cf6bcbf-8a4b-46d6-b556-9e35aab69307",
   "metadata": {},
   "outputs": [],
   "source": [
    "missing = train.isnull().sum().sort_values(ascending=False)\n",
    "print(missing.head(10))"
   ]
  },
  {
   "cell_type": "markdown",
   "id": "3da09222-8a32-491c-95f2-2828d7260aaf",
   "metadata": {},
   "source": [
    "### Correlation with SalePrice"
   ]
  },
  {
   "cell_type": "code",
   "execution_count": null,
   "id": "e0f751b1-acff-4088-91c7-eea26f08eba9",
   "metadata": {},
   "outputs": [],
   "source": [
    "# Select only numeric columns\n",
    "numeric_cols = train.select_dtypes(include=[np.number])\n",
    "\n",
    "# Correlation with SalePrice\n",
    "plt.figure(figsize=(10,6))\n",
    "sns.heatmap(\n",
    "    numeric_cols.corr()['SalePrice'].sort_values(ascending=False).to_frame(),\n",
    "    annot=True, cmap=\"coolwarm\"\n",
    ")\n",
    "plt.show()\n"
   ]
  },
  {
   "cell_type": "markdown",
   "id": "bc938ad8-e75a-40b4-8408-3555deee5249",
   "metadata": {},
   "source": [
    "# Example scatter plot"
   ]
  },
  {
   "cell_type": "code",
   "execution_count": null,
   "id": "6b0e1bdd-0a30-4f04-b696-0843e9214570",
   "metadata": {},
   "outputs": [],
   "source": [
    "sns.scatterplot(x=train[\"GrLivArea\"], y=train[\"SalePrice\"])\n",
    "plt.show()\n"
   ]
  },
  {
   "cell_type": "markdown",
   "id": "5754c2e4-ff15-4599-aca5-9a69fb990aab",
   "metadata": {},
   "source": [
    "# Preprocessing"
   ]
  },
  {
   "cell_type": "markdown",
   "id": "2592d29d-8bc2-460d-9d37-52b8ee4c61f7",
   "metadata": {},
   "source": [
    "### Drop missing values"
   ]
  },
  {
   "cell_type": "code",
   "execution_count": null,
   "id": "523be2fa-835c-42dd-b070-fdfa1b981fee",
   "metadata": {},
   "outputs": [],
   "source": [
    "# Drop columns with too many missing values\n",
    "train = train.drop(columns=[\"Alley\",\"PoolQC\",\"Fence\",\"MiscFeature\"])"
   ]
  },
  {
   "cell_type": "markdown",
   "id": "5eb5b461-cf19-484a-b862-1af28ca8f111",
   "metadata": {},
   "source": [
    "### Fill missing values separately"
   ]
  },
  {
   "cell_type": "code",
   "execution_count": null,
   "id": "22fd81d8-0251-4eea-a445-e30e31f9a90a",
   "metadata": {},
   "outputs": [],
   "source": [
    "# Separate numeric and categorical columns\n",
    "num_cols = train.select_dtypes(include=[np.number]).columns.drop('SalePrice')\n",
    "cat_cols = train.select_dtypes(exclude=[np.number]).columns\n",
    "\n",
    "# Fill numeric columns with median\n",
    "train[num_cols] = train[num_cols].fillna(train[num_cols].median())\n",
    "test[num_cols] = test[num_cols].fillna(test[num_cols].median())\n",
    "\n",
    "# Fill categorical columns with mode (most frequent value)\n",
    "train[cat_cols] = train[cat_cols].fillna(train[cat_cols].mode().iloc[0])\n",
    "test[cat_cols] = test[cat_cols].fillna(test[cat_cols].mode().iloc[0])\n"
   ]
  },
  {
   "cell_type": "markdown",
   "id": "24ded141-221f-4fe1-8d40-d49cd7f3b952",
   "metadata": {},
   "source": [
    "### Encode categorical features"
   ]
  },
  {
   "cell_type": "code",
   "execution_count": null,
   "id": "7e4043f9-a241-4f71-95e2-04997e9cf6a7",
   "metadata": {},
   "outputs": [],
   "source": [
    "train = pd.get_dummies(train, drop_first=True)\n",
    "test = pd.get_dummies(test, drop_first=True)\n"
   ]
  },
  {
   "cell_type": "code",
   "execution_count": null,
   "id": "93e9a94d-b5b7-452b-9930-01c245354b0c",
   "metadata": {},
   "outputs": [],
   "source": [
    "# Align train & test\n",
    "train, test = train.align(test, join=\"left\", axis=1, fill_value=0)"
   ]
  },
  {
   "cell_type": "code",
   "execution_count": null,
   "id": "86f6a45b-e301-4655-a956-3a08207b194b",
   "metadata": {},
   "outputs": [],
   "source": [
    "# Features & Target\n",
    "X = train.drop(\"SalePrice\", axis=1)\n",
    "y = train[\"SalePrice\"]"
   ]
  },
  {
   "cell_type": "code",
   "execution_count": null,
   "id": "0fe9a235-3960-463b-b180-dc0ef79561fa",
   "metadata": {},
   "outputs": [],
   "source": [
    "# Train-test split\n",
    "X_train, X_val, y_train, y_val = train_test_split(X, y, test_size=0.2, random_state=42)\n"
   ]
  },
  {
   "cell_type": "markdown",
   "id": "faa0271d-734d-484b-bd16-fd8020e09fc1",
   "metadata": {},
   "source": [
    "# Model Training"
   ]
  },
  {
   "cell_type": "markdown",
   "id": "b6afc784-2f94-4378-b7ba-8792ecee7889",
   "metadata": {},
   "source": [
    "###  Linear Regression"
   ]
  },
  {
   "cell_type": "code",
   "execution_count": null,
   "id": "32ed57b2-3bf7-4465-ae45-6f8dc29606b3",
   "metadata": {},
   "outputs": [],
   "source": [
    "lr = LinearRegression()\n",
    "lr.fit(X_train, y_train)\n",
    "y_pred_lr = lr.predict(X_val)\n"
   ]
  },
  {
   "cell_type": "markdown",
   "id": "4a99ab4a-6399-4f7c-a6e0-b766242a34da",
   "metadata": {},
   "source": [
    "### Random Forest"
   ]
  },
  {
   "cell_type": "code",
   "execution_count": null,
   "id": "5c892439-50f2-409f-b3c0-a0cd8348521b",
   "metadata": {},
   "outputs": [],
   "source": [
    "rf = RandomForestRegressor(n_estimators=100, random_state=42)\n",
    "rf.fit(X_train, y_train)\n",
    "y_pred_rf = rf.predict(X_val)"
   ]
  },
  {
   "cell_type": "markdown",
   "id": "2110c870-737a-4349-924e-60ae317323f4",
   "metadata": {},
   "source": [
    "###  XGBoost"
   ]
  },
  {
   "cell_type": "code",
   "execution_count": null,
   "id": "d1f7a357-87a9-4873-9ab5-5ae62075607e",
   "metadata": {},
   "outputs": [],
   "source": [
    "xgb = XGBRegressor(n_estimators=500, learning_rate=0.05, max_depth=4, random_state=42)\n",
    "xgb.fit(X_train, y_train)\n",
    "y_pred_xgb = xgb.predict(X_val)\n"
   ]
  },
  {
   "cell_type": "markdown",
   "id": "a772e696-7ceb-46dd-9716-d6de319cd13b",
   "metadata": {},
   "source": [
    "# Evaluation"
   ]
  },
  {
   "cell_type": "code",
   "execution_count": null,
   "id": "9c75c6cb-69e7-4886-89bf-468c57cae3a8",
   "metadata": {},
   "outputs": [],
   "source": [
    "def evaluate_model(y_true, y_pred, model_name):\n",
    "    rmse = np.sqrt(mean_squared_error(y_true, y_pred))\n",
    "    r2 = r2_score(y_true, y_pred)\n",
    "    print(f\"{model_name} - RMSE: {rmse:.2f}, R²: {r2:.2f}\")\n",
    "\n",
    "evaluate_model(y_val, y_pred_lr, \"Linear Regression\")\n",
    "evaluate_model(y_val, y_pred_rf, \"Random Forest\")\n",
    "evaluate_model(y_val, y_pred_xgb, \"XGBoost\")\n"
   ]
  },
  {
   "cell_type": "code",
   "execution_count": null,
   "id": "d899085c-7db7-49e8-8d5f-40b842e6ee8b",
   "metadata": {},
   "outputs": [],
   "source": [
    "final_preds = xgb.predict(test)\n",
    "\n",
    "submission = pd.DataFrame({\n",
    "    \"Id\": test.index + 1461,  # Kaggle test IDs start after train\n",
    "    \"SalePrice\": final_preds\n",
    "})\n",
    "\n",
    "submission.to_csv(\"submission.csv\", index=False)\n"
   ]
  },
  {
   "cell_type": "code",
   "execution_count": null,
   "id": "6e8c9ba2-ebd2-452c-aeae-2bbce38f75c5",
   "metadata": {},
   "outputs": [],
   "source": []
  }
 ],
 "metadata": {
  "kernelspec": {
   "display_name": "Python 3 (ipykernel)",
   "language": "python",
   "name": "python3"
  },
  "language_info": {
   "codemirror_mode": {
    "name": "ipython",
    "version": 3
   },
   "file_extension": ".py",
   "mimetype": "text/x-python",
   "name": "python",
   "nbconvert_exporter": "python",
   "pygments_lexer": "ipython3",
   "version": "3.13.2"
  }
 },
 "nbformat": 4,
 "nbformat_minor": 5
}
